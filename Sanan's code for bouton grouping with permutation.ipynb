{
 "cells": [
  {
   "cell_type": "code",
   "execution_count": null,
   "metadata": {},
   "outputs": [],
   "source": [
    "!pip install colormath\n",
    "import numpy as np\n",
    "import os\n",
    "import sys\n",
    "import pandas as pd\n",
    "import seaborn as sns\n",
    "import math\n",
    "from os import listdir\n",
    "import glob\n",
    "import scipy"
   ]
  },
  {
   "cell_type": "code",
   "execution_count": null,
   "metadata": {},
   "outputs": [],
   "source": [
    "data = ('C:/Users/IsaacV/Documents/input')\n",
    "os.chdir(data)\n",
    "os.getcwd()"
   ]
  },
  {
   "cell_type": "code",
   "execution_count": null,
   "metadata": {},
   "outputs": [],
   "source": [
    "data_file1 = 'madeup.xlsx'\n",
    "Image_1= pd.read_excel(data_file1,sheet_name= 0, index_col= None, columns=('AIS','BOUTON','R','G','B'))\n",
    "Image_1 \n",
    "I1= Image_1.iloc[0:, 2:]\n",
    "I1, Image_1"
   ]
  },
  {
   "cell_type": "code",
   "execution_count": null,
   "metadata": {},
   "outputs": [],
   "source": [
    "dist=pd.DataFrame(scipy.spatial.distance.cdist(I1,I1, metric='euclidean'),columns=Image_1['BOUTON'].unique(), index=Image_1['BOUTON'].unique())\n",
    "dist"
   ]
  },
  {
   "cell_type": "code",
   "execution_count": null,
   "metadata": {},
   "outputs": [],
   "source": [
    "dist.index.values[1]"
   ]
  },
  {
   "cell_type": "code",
   "execution_count": null,
   "metadata": {},
   "outputs": [],
   "source": [
    "dist.shape\n",
    "type(dist.shape)\n",
    "dist.shape[0]\n",
    "\n",
    "len(dist)\n",
    "\n",
    "thresh=.2\n",
    "#key = pd.DataFrame(index=range(0),columns=['Name','List','R','G','B'])\n",
    "#key = key.fillna(0)\n",
    "\n",
    "unique_val = 0\n",
    "key_data = {'Name': [unique_val], 'Bouton': [[dist.index.values[0]]], 'R': [I1.iloc[0,0]], 'G': [I1.iloc[0,1]], 'B': [I1.iloc[0,2]]}\n",
    "key = pd.DataFrame(data=key_data)\n",
    "#print(key)\n",
    "unique_val += 1\n",
    "unique_bool = False\n",
    "\n",
    "for i in range(1,dist.shape[0]):\n",
    "    unique_bool = False\n",
    "    for j in range(0,(i)):\n",
    "        if dist.iloc[i,j] < thresh:\n",
    "            #fun code\n",
    "            print(\"hi\")\n",
    "            if unique_bool == False:\n",
    "                for k in range(0,key.shape[0]):\n",
    "                    if any(dist.index.values[j] in s for s in key.iloc[k,1]):\n",
    "                        key.iloc[k,1].append(dist.index.values[i])\n",
    "            unique_bool = True\n",
    "    if unique_bool==False:\n",
    "        key_data = {'Name': [unique_val], 'Bouton': [[dist.index.values[i]]], 'R': [I1.iloc[i,0]], 'G': [I1.iloc[i,1]], 'B': [I1.iloc[i,2]]}\n",
    "        unique_val += 1\n",
    "        key = key.append(pd.DataFrame(data=key_data))\n",
    "        #print(temp_df)\n",
    "print(key)"
   ]
  },
  {
   "cell_type": "code",
   "execution_count": null,
   "metadata": {},
   "outputs": [],
   "source": [
    "\n",
    "prev=1\n",
    "value=-1\n",
    "first_time = True\n",
    "temp_list = []\n",
    "\n",
    "for i in range(0,Image_1.shape[0]):\n",
    "    for k in range(0,key.shape[0]):\n",
    "        if any(Image_1.iloc[i,1] in s for s in key.iloc[k,1]):\n",
    "            value=k\n",
    "    \n",
    "    if Image_1.iloc[i,0] != prev:\n",
    "        if first_time:\n",
    "            #temp_list = [value]\n",
    "            transform_data = {'AIS': prev, 'Bouton_list': [temp_list], 'Size': len(temp_list)}#, 'Unique_Size': len(unique(temp_list))}\n",
    "            transform = pd.DataFrame(data=transform_data)\n",
    "            first_time = False\n",
    "        else:\n",
    "            transform_data = {'AIS': prev, 'Bouton_list': [temp_list], 'Size': len(temp_list)}#, 'Unique_Size': len(unique(temp_list))}\n",
    "            transform = transform.append(pd.DataFrame(data=transform_data))\n",
    "        temp_list = [value]\n",
    "        prev = Image_1.iloc[i,0]\n",
    "    else:\n",
    "        temp_list.append(value)\n",
    "        #print(temp_list)\n",
    "        if i == (Image_1.shape[0]-1):\n",
    "            transform_data = {'AIS': prev, 'Bouton_list': [temp_list], 'Size': len(temp_list)}#, 'Unique_Size': len(unique(temp_list))}\n",
    "            transform = transform.append(pd.DataFrame(data=transform_data))\n",
    "print(transform)\n",
    "type(transform)\n",
    "transform"
   ]
  },
  {
   "cell_type": "code",
   "execution_count": null,
   "metadata": {},
   "outputs": [],
   "source": [
    "print(key)"
   ]
  },
  {
   "cell_type": "code",
   "execution_count": null,
   "metadata": {},
   "outputs": [],
   "source": [
    "import random\n",
    "import datetime\n",
    "\n",
    "random.seed(datetime.datetime.now())\n",
    "\n",
    "print(transform)"
   ]
  },
  {
   "cell_type": "code",
   "execution_count": null,
   "metadata": {},
   "outputs": [],
   "source": [
    "import pickle\n",
    "#test = pickle.loads(pickle.dumps(transform))\n",
    "\n",
    "#for i in range(0,10):\n",
    "if True:\n",
    "    random.seed(datetime.datetime.now())\n",
    "    transform_iter = pickle.loads(pickle.dumps(transform))\n",
    "    for j in range(0,transform_iter.shape[0]):\n",
    "        for k in range(0,len(transform_iter.iloc[j,1])):\n",
    "            transform_iter.iloc[j,1][k] = random.randint(0,key.shape[0]-1)\n",
    "            \n",
    "    print(transform_iter)"
   ]
  },
  {
   "cell_type": "code",
   "execution_count": null,
   "metadata": {},
   "outputs": [],
   "source": [
    "print(transform)"
   ]
  },
  {
   "cell_type": "code",
   "execution_count": null,
   "metadata": {},
   "outputs": [],
   "source": [
    "    print(id(transform))\n",
    "    print(id(transform_iter))"
   ]
  },
  {
   "cell_type": "code",
   "execution_count": null,
   "metadata": {},
   "outputs": [],
   "source": [
    "print(key)\n",
    "print(transform)"
   ]
  },
  {
   "cell_type": "code",
   "execution_count": null,
   "metadata": {},
   "outputs": [],
   "source": [
    "first_time = True\n",
    "#logged = False\n",
    "#logged_index = -1\n",
    "\n",
    "for i in range(0,transform.shape[0]):\n",
    "    if first_time == True:\n",
    "        report_data = {'Bouton_Combination': [list(set(transform.iloc[i,1]))],'#AIS': 1, 'mean': -1, 'stdev': -1, 'pval': -1, 'padj': -1}\n",
    "        report = pd.DataFrame(data=report_data)\n",
    "        report.iloc[i,0].sort()\n",
    "        first_time = False\n",
    "    else:\n",
    "        \n",
    "        logged_index = -1\n",
    "        transform.iloc[i,1].sort()\n",
    "        for j in range(0,report.shape[0]):\n",
    "            if report.iloc[j,0] == list(set(transform.iloc[i,1])):\n",
    "                logged_index = j\n",
    "        \n",
    "        if logged_index == -1:\n",
    "            report_data = {'Bouton_Combination': [list(set(transform.iloc[i,1]))],'#AIS': 1, 'mean': -1, 'stdev': -1, 'pval': -1, 'padj': -1}\n",
    "            report = report.append(pd.DataFrame(data=report_data))\n",
    "            report.iloc[i,0].sort()\n",
    "        else:\n",
    "            report.iloc[j,1] = report.iloc[j,1] + 1\n",
    "        \n",
    "        "
   ]
  },
  {
   "cell_type": "code",
   "execution_count": null,
   "metadata": {},
   "outputs": [],
   "source": [
    "print(report)"
   ]
  },
  {
   "cell_type": "code",
   "execution_count": null,
   "metadata": {},
   "outputs": [],
   "source": [
    "import pickle\n",
    "import math\n",
    "#test = pickle.loads(pickle.dumps(transform))\n",
    "\n",
    "for i in range(0,10):\n",
    "#if True:\n",
    "\n",
    "    random.seed(datetime.datetime.now())\n",
    "    transform_iter = pickle.loads(pickle.dumps(transform))\n",
    "    for j in range(0,transform_iter.shape[0]):\n",
    "        for k in range(0,len(transform_iter.iloc[j,1])):\n",
    "            transform_iter.iloc[j,1][k] = random.randint(0,key.shape[0]-1)\n",
    "    \n",
    "    for k in range(0,transform_iter.shape[0]):\n",
    "        first_time = True\n",
    "        \n",
    "        if first_time == True:\n",
    "            report2_data = {'Bouton_Combination': [list(set(transform_iter.iloc[k,1]))],'#AIS': 1}\n",
    "            report2 = pd.DataFrame(data=report2_data)\n",
    "            report2.iloc[k,0].sort()\n",
    "            first_time = False\n",
    "        else:\n",
    "\n",
    "            logged_index = -1\n",
    "            transform_iter.iloc[k,1].sort()\n",
    "            for j in range(0,report2.shape[0]):\n",
    "                if report2.iloc[j,0] == list(set(transform_iter.iloc[k,1])):\n",
    "                    logged_index = j\n",
    "\n",
    "            if logged_index == -1:\n",
    "                report2_data = {'Bouton_Combination': [list(set(transform_iter.iloc[k,1]))],'#AIS': 1}\n",
    "                report2 = report2.append(pd.DataFrame(data=report2_data))\n",
    "                report2.iloc[k,0].sort()\n",
    "            else:\n",
    "                report2.iloc[j,1] = report2.iloc[j,1] + 1\n",
    "    \n",
    "    index_list = []\n",
    "    for k in range(0,report.shape[0]):\n",
    "        found = False\n",
    "        for m in range(0,report2.shape[0]):\n",
    "            if report.iloc[k,0] == report2.iloc[m,0]:\n",
    "                found = True\n",
    "                index_list = index_list.append(m)\n",
    "                if i == 0:\n",
    "                    report.iloc[k,2] = report2.iloc[m,1]\n",
    "                    report.iloc[k,3] = 0\n",
    "                else:\n",
    "                    temp_avg = report.iloc[k,2]\n",
    "                    report.iloc[k,2] = ((i*report.iloc[k,2])+report2.iloc[m,1])/(i+1)\n",
    "                    report.iloc[k,3] = math.sqrt(((i*((report.iloc[k,3]**2)+(temp_avg**2)+(report.iloc[k,2]**2)-(2*report.iloc[k,2]*temp_avg)))+((report2.iloc[m,1]-report.iloc[k,2])**2))/(i+1))\n",
    "        if found == False:\n",
    "            temp_avg = report.iloc[k,2]\n",
    "            report.iloc[k,2] = ((i*report.iloc[k,2]))/(i+1)\n",
    "            report.iloc[k,3] = math.sqrt(((i*((report.iloc[k,3]**2)+(temp_avg**2)+(report.iloc[k,2]**2)-(2*report.iloc[k,2]*temp_avg)))+((0-report.iloc[k,2])**2))/(i+1))\n",
    "    \n",
    "    index_list.sort()\n",
    "    for k in range(0,report2.shape[0]):\n",
    "        if (k in index_list == False):\n",
    "            report_data = {'Bouton_Combination': [report2.iloc[k,0]],'#AIS': 0, 'mean': report2.iloc[k,1], 'stdev': 0, 'pval': -1, 'padj': -1}\n",
    "            report = report.append(pd.DataFrame(data=report_data))\n",
    "        \n",
    "    "
   ]
  }
 ],
 "metadata": {
  "kernelspec": {
   "display_name": "Python 3",
   "language": "python",
   "name": "python3"
  },
  "language_info": {
   "codemirror_mode": {
    "name": "ipython",
    "version": 3
   },
   "file_extension": ".py",
   "mimetype": "text/x-python",
   "name": "python",
   "nbconvert_exporter": "python",
   "pygments_lexer": "ipython3",
   "version": "3.7.0"
  }
 },
 "nbformat": 4,
 "nbformat_minor": 2
}
